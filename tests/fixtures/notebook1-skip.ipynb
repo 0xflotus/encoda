{
  "metadata": {
    "language_info": { "name": "python" },
    "title": "Test Jupyter Notebook",
    "abstract": "The abstract for this document.",
    "authors": [
      {
        "surname": "Simpson",
        "given-names": "Bart",
        "affiliation": ["org-1", "org-2"]
      }
    ],
    "organisations": [
      {
        "id": "org-1",
        "name": "Springfield University",
        "city": "Springfield",
        "country": "USA"
      },{
        "id": "org-2",
        "name": "Simpson household",
        "city": "Springfield"
      }
    ]
  },
  "cells": [
    {"cell_type": "markdown", "source": ["# Heading 1\n", "A cell:"]},
    {"cell_type": "code", "source": ["greeting = \"Hello from Python\"\ngreeting\n"]},
    {"cell_type": "markdown", "source": ["A paragraph. Lorem ipsum dolor sit amet, consectetur adipisicing elit, sed do eiusmod tempor incididunt ut labore et dolore magna aliqua. Ut enim ad minim veniam, quis nostrud exercitation ullamco laboris nisi ut aliquip ex ea commodo consequat. Duis aute irure dolor in reprehenderit in voluptate velit esse cillum dolore eu fugiat nulla pariatur. Excepteur sint occaecat cupidatat non proident, sunt in culpa qui officia deserunt mollit anim id est laborum."]},
    {"cell_type": "markdown", "source": ["## Heading 2"]},
    {"cell_type": "markdown", "source": ["Another cell, using the variable `greeting` set above:"]},
    {"cell_type": "code", "source": ["import sys\ngreeting + ' ' + str(sys.version_info[0])\n"]},
    {"cell_type": "markdown", "source": ["> Blockquote. Lorem ipsum dolor sit amet, consectetur adipisicing elit, sed do eiusmod tempor incididunt ut labore et dolore magna aliqua. Ut enim ad minim veniam, quis nostrud exercitation ullamco laboris nisi ut aliquip ex ea commodo consequat. Duis aute irure dolor in reprehenderit in voluptate velit esse cillum dolore eu fugiat nulla pariatur. Excepteur sint occaecat cupidatat non proident, sunt in culpa qui officia deserunt mollit anim id est laborum."]}
  ]
}
