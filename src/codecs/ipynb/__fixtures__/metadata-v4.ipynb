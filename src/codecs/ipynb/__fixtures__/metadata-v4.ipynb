{
  "nbformat": 4,
  "nbformat_minor": 4,
  "metadata": {
    "title": "Article title",
    "authors": [
      "Josiah Carberry PhD (http://library.brown.edu/about/hay/carberry.php)",
      "Dr Jane Carberry <jane.carberry@example.org>",
      {
        "firstName": "Janet",
        "lastName": "Carberry",
        "affiliations": {
          "type": "Organization",
          "name": "Brown University"
        },
        "favoriteColour": "red"
      }
    ],
    "arbitrary_metadata": {
      "provider": "Deep Thought",
      "answer": 42
    }
  },
  "cells": []
}
